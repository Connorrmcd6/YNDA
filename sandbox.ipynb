{
  "cells": [
    {
      "cell_type": "code",
      "execution_count": 1,
      "metadata": {},
      "outputs": [],
      "source": [
        "import numpy as np\n",
        "import pandas as pd\n",
        "import streamlit as st\n",
        "from datetime import datetime, timedelta\n",
        "import os\n",
        "import gspread\n",
        "from google.oauth2 import service_account\n",
        "from gspread_dataframe import set_with_dataframe\n",
        "from pydrive.auth import GoogleAuth\n",
        "from pydrive.drive import GoogleDrive\n",
        "from configs import *\n",
        "import requests\n",
        "from functionssb import *"
      ]
    },
    {
      "cell_type": "code",
      "execution_count": 2,
      "metadata": {},
      "outputs": [],
      "source": [
        "gs_connection = connect_to_gs(st.secrets[\"gcp_service_account\"])"
      ]
    },
    {
      "cell_type": "code",
      "execution_count": 20,
      "metadata": {},
      "outputs": [],
      "source": [
        "drinks = fetch_drinks_data(gs_connection, drinks_table, prod_google_sheet_key, ['event','drink_size', 'start_time', 'end_time'])"
      ]
    },
    {
      "cell_type": "code",
      "execution_count": 13,
      "metadata": {},
      "outputs": [],
      "source": [
        "def analyze_drinks(df):\n",
        "    # Calculate the sum of the drink_size column\n",
        "    total_drink_size = f\"{df['drink_size'].sum()/1000:.2f}\"\n",
        "\n",
        "    # Count occurrences of specific drink types\n",
        "    drink_type_counts = df['drink_type'].value_counts()\n",
        "\n",
        "    # Get counts for specific drink types\n",
        "    missed_pen_count = drink_type_counts.get('missed pen', 0)\n",
        "    red_card_count = drink_type_counts.get('red card', 0)\n",
        "    own_goal_count = drink_type_counts.get('own goal', 0)\n",
        "    nomination_count = drink_type_counts.get('nomination', 0)\n",
        "\n",
        "    return total_drink_size, missed_pen_count, red_card_count, own_goal_count, nomination_count\n"
      ]
    },
    {
      "cell_type": "code",
      "execution_count": 21,
      "metadata": {},
      "outputs": [],
      "source": [
        "total_drink_size, missed_pen_count, red_card_count, own_goal_count, nomination_count = analyze_drinks(drinks)\n"
      ]
    },
    {
      "cell_type": "code",
      "execution_count": 22,
      "metadata": {},
      "outputs": [
        {
          "data": {
            "text/plain": [
              "9"
            ]
          },
          "execution_count": 22,
          "metadata": {},
          "output_type": "execute_result"
        }
      ],
      "source": [
        "nomination_count"
      ]
    },
    {
      "cell_type": "code",
      "execution_count": null,
      "metadata": {},
      "outputs": [],
      "source": [
        "def render_svg_summary(path, width=None, height=None, ls=None, mps=None, rcs=None, ogs=None, nms=None):\n",
        "    with open(path, \"r\") as f:\n",
        "        svg_content = f.read()\n",
        "\n",
        "    if ls is not None:\n",
        "        svg_content = svg_content.replace(\"@litres\", str(ls))\n",
        "    if mps is not None:\n",
        "        svg_content = svg_content.replace(\"@missed_pens\", str(mps))\n",
        "    if rcs is not None:\n",
        "        svg_content = svg_content.replace(\"@red_cards\", str(rcs))\n",
        "    if ogs is not None:\n",
        "        svg_content = svg_content.replace(\"@own_goals\", str(ogs))\n",
        "    if nms is not None:\n",
        "        svg_content = svg_content.replace(\"@nominations\", str(nms))\n",
        "\n",
        "    b64_svg = base64.b64encode(svg_content.encode('utf-8')).decode(\"utf-8\")\n",
        "\n",
        "    style = \"\"\n",
        "    if width is not None:\n",
        "        style += f\"width: {width}%;\"\n",
        "    if height is not None:\n",
        "        style += f\"height: {height}%;\"\n",
        "        \n",
        "    img_tag = f'<img src=\"data:image/svg+xml;base64,{b64_svg}\" style=\"{style}\"/>'\n",
        "    \n",
        "    st.write(img_tag, unsafe_allow_html=True)"
      ]
    }
  ],
  "metadata": {
    "kernelspec": {
      "display_name": "base",
      "language": "python",
      "name": "python3"
    },
    "language_info": {
      "codemirror_mode": {
        "name": "ipython",
        "version": 3
      },
      "file_extension": ".py",
      "mimetype": "text/x-python",
      "name": "python",
      "nbconvert_exporter": "python",
      "pygments_lexer": "ipython3",
      "version": "3.8.8"
    },
    "orig_nbformat": 4
  },
  "nbformat": 4,
  "nbformat_minor": 2
}
