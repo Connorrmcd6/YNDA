{
  "cells": [
    {
      "cell_type": "code",
      "execution_count": 1,
      "metadata": {},
      "outputs": [],
      "source": [
        "import numpy as np\n",
        "import pandas as pd\n",
        "import streamlit as st\n",
        "from datetime import datetime, timedelta\n",
        "import os\n",
        "import gspread\n",
        "from google.oauth2 import service_account\n",
        "from gspread_dataframe import set_with_dataframe\n",
        "from pydrive.auth import GoogleAuth\n",
        "from pydrive.drive import GoogleDrive\n",
        "from configs import *\n",
        "import requests"
      ]
    },
    {
      "cell_type": "code",
      "execution_count": 2,
      "metadata": {},
      "outputs": [],
      "source": [
        "def connect_to_gs(_service_account_key):\n",
        "    scopes = [\"https://www.googleapis.com/auth/spreadsheets\"]\n",
        "    credentials = service_account.Credentials.from_service_account_info(_service_account_key, scopes=scopes)\n",
        "    gs_connection = gspread.authorize(credentials)\n",
        "    return gs_connection\n",
        "\n",
        "gs_connection = connect_to_gs(st.secrets[\"gcp_service_account\"])"
      ]
    },
    {
      "cell_type": "code",
      "execution_count": 3,
      "metadata": {},
      "outputs": [],
      "source": [
        "def fetch_max_gw(_gc, sheet_name, sheet_key):\n",
        "    try:\n",
        "        # Open specific sheet\n",
        "        gs = _gc.open_by_key(sheet_key)\n",
        "\n",
        "        # Open specific tab within the sheet\n",
        "        tab = gs.worksheet(sheet_name)\n",
        "\n",
        "        data = tab.get_all_values()\n",
        "        headers = data.pop(0)\n",
        "        df = pd.DataFrame(data, columns=headers)\n",
        "\n",
        "        # Convert the first column to numeric\n",
        "        df[headers[0]] = pd.to_numeric(df[headers[0]])\n",
        "\n",
        "        # Get the maximum value of the first column\n",
        "        max_value = df[headers[0]].max()\n",
        "\n",
        "        return int(max_value)\n",
        "\n",
        "    except gspread.exceptions.APIError as e:\n",
        "        print(\"Error accessing Google Sheets API:\", e)\n",
        "        return None\n",
        "    except gspread.exceptions.WorksheetNotFound as e:\n",
        "        print(\"Error: Worksheet not found:\", e)\n",
        "        return None\n",
        "    except Exception as e:\n",
        "        print(\"An error occurred:\", e)\n",
        "        return None"
      ]
    },
    {
      "cell_type": "code",
      "execution_count": 4,
      "metadata": {},
      "outputs": [],
      "source": [
        "def update(_gc):\n",
        "    with requests.Session() as session:\n",
        "        general_response = session.get(general_endpoint).json()\n",
        "\n",
        "    events = pd.DataFrame(general_response['events'])[['id', 'is_previous', 'is_current', 'is_next', 'finished', 'data_checked',]]\n",
        "    if len(events[events['is_current'] == True]) == 0:\n",
        "        print('season hasn\\'t started pull placeholder data')\n",
        "        gw = \n",
        "        return False, gw\n",
        "    \n",
        "    gw = int(events[events[\"is_current\"] == True][\"id\"])\n",
        "    finished = bool(events[events[\"is_current\"] == True][\"finished\"].values)\n",
        "    data_checked = bool(events[events[\"is_current\"] == True][\"data_checked\"].values)\n",
        "    \n",
        "    if finished and data_checked:\n",
        "        print(f\"finished: {finished}\\nchecked: {data_checked}\\ngame week: {gw}\")\n",
        "        max_stored_gw = fetch_max_gw(_gc, gameweek_results_table, prod_google_sheet_key)\n",
        "        if max_stored_gw < gw:      \n",
        "            print('max stored_gw < current week')\n",
        "            print('we will update here')\n",
        "            return True, gw\n",
        "        \n",
        "        else: \n",
        "            print('data is already latest - pull from gs')\n",
        "            return False, max_stored_gw\n",
        "    else:\n",
        "        print(\"its either a new week or the old week hasnt completetly finished - pull from gs\")\n",
        "        print(f\"finished: {finished}\\nchecked: {data_checked}\\ngame week: {gw}\")\n",
        "        return False, gw"
      ]
    },
    {
      "cell_type": "code",
      "execution_count": 5,
      "metadata": {},
      "outputs": [
        {
          "name": "stdout",
          "output_type": "stream",
          "text": [
            "season hasn't started pull placeholder data\n"
          ]
        }
      ],
      "source": [
        "x , current_gw = update(gs_connection)"
      ]
    },
    {
      "cell_type": "code",
      "execution_count": 6,
      "metadata": {},
      "outputs": [
        {
          "data": {
            "text/plain": [
              "1"
            ]
          },
          "execution_count": 6,
          "metadata": {},
          "output_type": "execute_result"
        }
      ],
      "source": [
        "current_gw"
      ]
    },
    {
      "cell_type": "code",
      "execution_count": 7,
      "metadata": {},
      "outputs": [],
      "source": [
        "def fetch_gameweek_data(_gc, sheet_name, sheet_key, columns_list):\n",
        "    try:\n",
        "        # Open specific sheet\n",
        "        gs = _gc.open_by_key(sheet_key)\n",
        "\n",
        "        # Open specific tab within the sheet\n",
        "        tab = gs.worksheet(sheet_name)\n",
        "\n",
        "        data = tab.get_all_values()\n",
        "        headers = data.pop(0)\n",
        "        df = pd.DataFrame(data, columns=headers)\n",
        "\n",
        "        # to handle numeric columns that are imported as strings\n",
        "        for column in columns_list:\n",
        "            df[column] = pd.to_numeric(df[column])\n",
        "\n",
        "        return df\n",
        "\n",
        "    except gspread.exceptions.APIError as e:\n",
        "        print(\"Error accessing Google Sheets API:\", e)\n",
        "        return None\n",
        "    except gspread.exceptions.WorksheetNotFound as e:\n",
        "        print(\"Error: Worksheet not found:\", e)\n",
        "        return None\n",
        "    except Exception as e:\n",
        "        print(\"An error occurred:\", e)\n",
        "        return None\n"
      ]
    },
    {
      "cell_type": "code",
      "execution_count": 8,
      "metadata": {},
      "outputs": [],
      "source": [
        "gameweek_df = fetch_gameweek_data(\n",
        "        gs_connection,\n",
        "        gameweek_results_table,\n",
        "        prod_google_sheet_key,\n",
        "        [\"event\", \"points\", \"total_points\", \"event_transfers_cost\", \"points_on_bench\"],)"
      ]
    },
    {
      "cell_type": "code",
      "execution_count": 11,
      "metadata": {},
      "outputs": [],
      "source": [
        "df = gameweek_df"
      ]
    },
    {
      "cell_type": "code",
      "execution_count": 12,
      "metadata": {},
      "outputs": [],
      "source": [
        "current_gw_df = df[df['event'] == current_gw]"
      ]
    },
    {
      "cell_type": "code",
      "execution_count": 13,
      "metadata": {},
      "outputs": [
        {
          "data": {
            "text/html": [
              "<div>\n",
              "<style scoped>\n",
              "    .dataframe tbody tr th:only-of-type {\n",
              "        vertical-align: middle;\n",
              "    }\n",
              "\n",
              "    .dataframe tbody tr th {\n",
              "        vertical-align: top;\n",
              "    }\n",
              "\n",
              "    .dataframe thead th {\n",
              "        text-align: right;\n",
              "    }\n",
              "</style>\n",
              "<table border=\"1\" class=\"dataframe\">\n",
              "  <thead>\n",
              "    <tr style=\"text-align: right;\">\n",
              "      <th></th>\n",
              "      <th>event</th>\n",
              "      <th>entry</th>\n",
              "      <th>player_name</th>\n",
              "      <th>points</th>\n",
              "      <th>total_points</th>\n",
              "      <th>event_transfers_cost</th>\n",
              "      <th>points_on_bench</th>\n",
              "    </tr>\n",
              "  </thead>\n",
              "  <tbody>\n",
              "  </tbody>\n",
              "</table>\n",
              "</div>"
            ],
            "text/plain": [
              "Empty DataFrame\n",
              "Columns: [event, entry, player_name, points, total_points, event_transfers_cost, points_on_bench]\n",
              "Index: []"
            ]
          },
          "execution_count": 13,
          "metadata": {},
          "output_type": "execute_result"
        }
      ],
      "source": [
        "current_gw_df"
      ]
    },
    {
      "cell_type": "code",
      "execution_count": 9,
      "metadata": {},
      "outputs": [],
      "source": [
        "def get_first_last(df, current_gw):\n",
        "    # Filter the DataFrame for the given current_gw\n",
        "    current_gw_df = df[df['event'] == current_gw]\n",
        "\n",
        "    # Sort the filtered DataFrame based on points, total_points, and player_name\n",
        "    sorted_df = current_gw_df.sort_values(by=[\"points\", \"total_points\", \"player_name\"],\n",
        "                                           ascending=[False, False, True])\n",
        "\n",
        "    # Get the player names of the first and last place\n",
        "    first_place_name = sorted_df['player_name'].iloc[0]\n",
        "    last_place_name = sorted_df['player_name'].iloc[-1]\n",
        "\n",
        "    return first_place_name, last_place_name"
      ]
    },
    {
      "cell_type": "code",
      "execution_count": 10,
      "metadata": {},
      "outputs": [
        {
          "ename": "IndexError",
          "evalue": "single positional indexer is out-of-bounds",
          "output_type": "error",
          "traceback": [
            "\u001b[0;31m---------------------------------------------------------------------------\u001b[0m",
            "\u001b[0;31mIndexError\u001b[0m                                Traceback (most recent call last)",
            "Cell \u001b[0;32mIn[10], line 1\u001b[0m\n\u001b[0;32m----> 1\u001b[0m first_place, last_place \u001b[39m=\u001b[39m get_first_last(gameweek_df, current_gw)\n",
            "Cell \u001b[0;32mIn[9], line 10\u001b[0m, in \u001b[0;36mget_first_last\u001b[0;34m(df, current_gw)\u001b[0m\n\u001b[1;32m      6\u001b[0m sorted_df \u001b[39m=\u001b[39m current_gw_df\u001b[39m.\u001b[39msort_values(by\u001b[39m=\u001b[39m[\u001b[39m\"\u001b[39m\u001b[39mpoints\u001b[39m\u001b[39m\"\u001b[39m, \u001b[39m\"\u001b[39m\u001b[39mtotal_points\u001b[39m\u001b[39m\"\u001b[39m, \u001b[39m\"\u001b[39m\u001b[39mplayer_name\u001b[39m\u001b[39m\"\u001b[39m],\n\u001b[1;32m      7\u001b[0m                                        ascending\u001b[39m=\u001b[39m[\u001b[39mFalse\u001b[39;00m, \u001b[39mFalse\u001b[39;00m, \u001b[39mTrue\u001b[39;00m])\n\u001b[1;32m      9\u001b[0m \u001b[39m# Get the player names of the first and last place\u001b[39;00m\n\u001b[0;32m---> 10\u001b[0m first_place_name \u001b[39m=\u001b[39m sorted_df[\u001b[39m'\u001b[39;49m\u001b[39mplayer_name\u001b[39;49m\u001b[39m'\u001b[39;49m]\u001b[39m.\u001b[39;49miloc[\u001b[39m0\u001b[39;49m]\n\u001b[1;32m     11\u001b[0m last_place_name \u001b[39m=\u001b[39m sorted_df[\u001b[39m'\u001b[39m\u001b[39mplayer_name\u001b[39m\u001b[39m'\u001b[39m]\u001b[39m.\u001b[39miloc[\u001b[39m-\u001b[39m\u001b[39m1\u001b[39m]\n\u001b[1;32m     13\u001b[0m \u001b[39mreturn\u001b[39;00m first_place_name, last_place_name\n",
            "File \u001b[0;32m~/opt/anaconda3/lib/python3.8/site-packages/pandas/core/indexing.py:1073\u001b[0m, in \u001b[0;36m_LocationIndexer.__getitem__\u001b[0;34m(self, key)\u001b[0m\n\u001b[1;32m   1070\u001b[0m axis \u001b[39m=\u001b[39m \u001b[39mself\u001b[39m\u001b[39m.\u001b[39maxis \u001b[39mor\u001b[39;00m \u001b[39m0\u001b[39m\n\u001b[1;32m   1072\u001b[0m maybe_callable \u001b[39m=\u001b[39m com\u001b[39m.\u001b[39mapply_if_callable(key, \u001b[39mself\u001b[39m\u001b[39m.\u001b[39mobj)\n\u001b[0;32m-> 1073\u001b[0m \u001b[39mreturn\u001b[39;00m \u001b[39mself\u001b[39;49m\u001b[39m.\u001b[39;49m_getitem_axis(maybe_callable, axis\u001b[39m=\u001b[39;49maxis)\n",
            "File \u001b[0;32m~/opt/anaconda3/lib/python3.8/site-packages/pandas/core/indexing.py:1625\u001b[0m, in \u001b[0;36m_iLocIndexer._getitem_axis\u001b[0;34m(self, key, axis)\u001b[0m\n\u001b[1;32m   1622\u001b[0m     \u001b[39mraise\u001b[39;00m \u001b[39mTypeError\u001b[39;00m(\u001b[39m\"\u001b[39m\u001b[39mCannot index by location index with a non-integer key\u001b[39m\u001b[39m\"\u001b[39m)\n\u001b[1;32m   1624\u001b[0m \u001b[39m# validate the location\u001b[39;00m\n\u001b[0;32m-> 1625\u001b[0m \u001b[39mself\u001b[39;49m\u001b[39m.\u001b[39;49m_validate_integer(key, axis)\n\u001b[1;32m   1627\u001b[0m \u001b[39mreturn\u001b[39;00m \u001b[39mself\u001b[39m\u001b[39m.\u001b[39mobj\u001b[39m.\u001b[39m_ixs(key, axis\u001b[39m=\u001b[39maxis)\n",
            "File \u001b[0;32m~/opt/anaconda3/lib/python3.8/site-packages/pandas/core/indexing.py:1557\u001b[0m, in \u001b[0;36m_iLocIndexer._validate_integer\u001b[0;34m(self, key, axis)\u001b[0m\n\u001b[1;32m   1555\u001b[0m len_axis \u001b[39m=\u001b[39m \u001b[39mlen\u001b[39m(\u001b[39mself\u001b[39m\u001b[39m.\u001b[39mobj\u001b[39m.\u001b[39m_get_axis(axis))\n\u001b[1;32m   1556\u001b[0m \u001b[39mif\u001b[39;00m key \u001b[39m>\u001b[39m\u001b[39m=\u001b[39m len_axis \u001b[39mor\u001b[39;00m key \u001b[39m<\u001b[39m \u001b[39m-\u001b[39mlen_axis:\n\u001b[0;32m-> 1557\u001b[0m     \u001b[39mraise\u001b[39;00m \u001b[39mIndexError\u001b[39;00m(\u001b[39m\"\u001b[39m\u001b[39msingle positional indexer is out-of-bounds\u001b[39m\u001b[39m\"\u001b[39m)\n",
            "\u001b[0;31mIndexError\u001b[0m: single positional indexer is out-of-bounds"
          ]
        }
      ],
      "source": [
        "first_place, last_place = get_first_last(gameweek_df, current_gw)"
      ]
    }
  ],
  "metadata": {
    "kernelspec": {
      "display_name": "base",
      "language": "python",
      "name": "python3"
    },
    "language_info": {
      "codemirror_mode": {
        "name": "ipython",
        "version": 3
      },
      "file_extension": ".py",
      "mimetype": "text/x-python",
      "name": "python",
      "nbconvert_exporter": "python",
      "pygments_lexer": "ipython3",
      "version": "3.8.8"
    },
    "orig_nbformat": 4
  },
  "nbformat": 4,
  "nbformat_minor": 2
}
