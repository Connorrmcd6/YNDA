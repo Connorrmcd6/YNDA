{
 "cells": [
  {
   "cell_type": "code",
   "execution_count": 1,
   "metadata": {},
   "outputs": [],
   "source": [
    "import numpy as np\n",
    "import pandas as pd\n",
    "import streamlit as st\n",
    "from datetime import datetime, timedelta\n",
    "import os\n",
    "import gspread\n",
    "from google.oauth2 import service_account\n",
    "from gspread_dataframe import set_with_dataframe\n",
    "# from google.oauth2.service_account import Credentials\n",
    "from pydrive.auth import GoogleAuth\n",
    "from pydrive.drive import GoogleDrive\n",
    "from configs import *\n",
    "from placeholder_events import *\n",
    "import requests"
   ]
  },
  {
   "cell_type": "code",
   "execution_count": 2,
   "metadata": {},
   "outputs": [],
   "source": [
    "#function to create api connection to google sheets\n",
    "def connect_to_gs(service_account_key):\n",
    "    scopes = ['https://www.googleapis.com/auth/spreadsheets']\n",
    "    credentials = service_account.Credentials.from_service_account_info(service_account_key, scopes=scopes)\n",
    "    gs_connection = gspread.authorize(credentials)\n",
    "    return gs_connection\n",
    "\n",
    "\n",
    "#create connection\n",
    "gs_connection = connect_to_gs(st.secrets[\"gcp_service_account\"])"
   ]
  },
  {
   "cell_type": "code",
   "execution_count": 3,
   "metadata": {},
   "outputs": [],
   "source": [
    "#function to write data to google sheets\n",
    "def write_google_sheets_data(gc, df, sheet_name, sheet_key):\n",
    "    try:\n",
    "        # Open specific sheet\n",
    "        gs = gc.open_by_key(sheet_key)\n",
    "\n",
    "        # Open specific tab within the sheet\n",
    "        tab = gs.worksheet(sheet_name)\n",
    "\n",
    "        df_values = df.values.tolist()\n",
    "        gs.values_append(sheet_name, {'valueInputOption': 'RAW'}, {\n",
    "                    'values': df_values})\n",
    "\n",
    "        return None\n",
    "\n",
    "    except gspread.exceptions.APIError as e:\n",
    "        print(\"Error accessing Google Sheets API:\", e)\n",
    "        return None\n",
    "    except gspread.exceptions.WorksheetNotFound as e:\n",
    "        print(f\"Error: Worksheet not found, please create a new tab named:\", e)\n",
    "        return None\n",
    "    except Exception as e:\n",
    "        print(\"An error occurred:\", e)\n",
    "        return None\n",
    "     "
   ]
  },
  {
   "cell_type": "code",
   "execution_count": 4,
   "metadata": {},
   "outputs": [],
   "source": [
    "#function to fetch data from google sheets\n",
    "def fetch_google_sheets_data(gc, sheet_name, sheet_key, columns_list):\n",
    "    try:\n",
    "        # Open specific sheet\n",
    "        gs = gc.open_by_key(sheet_key)\n",
    "\n",
    "        # Open specific tab within the sheet\n",
    "        tab = gs.worksheet(sheet_name)\n",
    "\n",
    "        data = tab.get_all_values()\n",
    "        headers = data.pop(0)\n",
    "        df = pd.DataFrame(data, columns=headers)\n",
    "\n",
    "        for column in columns_list:\n",
    "            df[column] = pd.to_numeric(df[column])\n",
    "\n",
    "        return df\n",
    "\n",
    "    except gspread.exceptions.APIError as e:\n",
    "        print(\"Error accessing Google Sheets API:\", e)\n",
    "        return None\n",
    "    except gspread.exceptions.WorksheetNotFound as e:\n",
    "        print(\"Error: Worksheet not found:\", e)\n",
    "        return None\n",
    "    except Exception as e:\n",
    "        print(\"An error occurred:\", e)\n",
    "        return None\n",
    "    \n",
    "#fetch data\n"
   ]
  },
  {
   "cell_type": "code",
   "execution_count": 5,
   "metadata": {},
   "outputs": [],
   "source": [
    "def fetch_max_gw(_gc, sheet_name, sheet_key):\n",
    "    try:\n",
    "        # Open specific sheet\n",
    "        gs = _gc.open_by_key(sheet_key)\n",
    "\n",
    "        # Open specific tab within the sheet\n",
    "        tab = gs.worksheet(sheet_name)\n",
    "\n",
    "        data = tab.get_all_values()\n",
    "        headers = data.pop(0)\n",
    "        df = pd.DataFrame(data, columns=headers)\n",
    "\n",
    "        # Convert the first column to numeric\n",
    "        df[headers[0]] = pd.to_numeric(df[headers[0]])\n",
    "\n",
    "        # Get the maximum value of the first column\n",
    "        max_value = df[headers[0]].max()\n",
    "\n",
    "        return int(max_value)\n",
    "\n",
    "    except gspread.exceptions.APIError as e:\n",
    "        print(\"Error accessing Google Sheets API:\", e)\n",
    "        return None\n",
    "    except gspread.exceptions.WorksheetNotFound as e:\n",
    "        print(\"Error: Worksheet not found:\", e)\n",
    "        return None\n",
    "    except Exception as e:\n",
    "        print(\"An error occurred:\", e)\n",
    "        return None"
   ]
  },
  {
   "cell_type": "code",
   "execution_count": 6,
   "metadata": {},
   "outputs": [],
   "source": [
    "def update(_gc):\n",
    "    with requests.Session() as session:\n",
    "        general_response = session.get(general_endpoint).json()\n",
    "\n",
    "    events = pd.DataFrame(general_response['events'])[['id', 'is_previous', 'is_current', 'is_next', 'finished', 'data_checked',]]\n",
    "    if len(events[events['is_current'] == True]) == 0:\n",
    "        print('season hasn\\'t started pull placeholder data')\n",
    "        events = pd.DataFrame(placeholder_events)[['id', 'is_previous', 'is_current', 'is_next', 'finished', 'data_checked',]]\n",
    "\n",
    "    \n",
    "    gw = int(events[events[\"is_current\"] == True][\"id\"])\n",
    "    finished = bool(events[events[\"is_current\"] == True][\"finished\"].values)\n",
    "    data_checked = bool(events[events[\"is_current\"] == True][\"data_checked\"].values)\n",
    "    \n",
    "    if finished and data_checked:\n",
    "        print(f\"finished: {finished}\\nchecked: {data_checked}\\ngame week: {gw}\")\n",
    "        max_stored_gw = fetch_max_gw(_gc, gameweek_results_table, google_sheet_key)\n",
    "        if max_stored_gw < gw:      \n",
    "            print('max stored_gw < current week')\n",
    "            print('we will update here')\n",
    "            return True\n",
    "        \n",
    "        else: \n",
    "            print('data is already latest - pull from gs')\n",
    "            return False\n",
    "    else:\n",
    "        print(\"its either a new week or the old week hasnt completetly finished - pull from gs\")\n",
    "        print(f\"finished: {finished}\\nchecked: {data_checked}\\ngame week: {gw}\")\n",
    "        return False"
   ]
  },
  {
   "cell_type": "code",
   "execution_count": null,
   "metadata": {},
   "outputs": [],
   "source": [
    "def gameweek_results_update():\n",
    "    #pull results from fpl API \n",
    "    #append them to gs\n",
    "\n",
    "    #calc first and last place for the week\n",
    "    #return first and last and current_week\n",
    "    return None"
   ]
  },
  {
   "cell_type": "code",
   "execution_count": null,
   "metadata": {},
   "outputs": [],
   "source": [
    "#takes current week from gameweek_results_update\n",
    "\n",
    "#cache this on indefinitely and then reset cache when update is true\n",
    "\n",
    "def auto_drinks_update(current_week, last):\n",
    "    #loop through teams and create df fines like:\n",
    "\n",
    "    #event: current_week\n",
    "    #nominator_name = 'auto'\n",
    "    #drinker_name = 'person fined'\n",
    "    #drink_type: red card/own goal/negative pts/last\n",
    "    #nomination_created_date = now()\n",
    "    #nomination_deadline_date = now() + 7 days\n",
    "    #quantity =  1\n",
    "    return None\n"
   ]
  },
  {
   "cell_type": "code",
   "execution_count": null,
   "metadata": {},
   "outputs": [],
   "source": [
    "def managers_update():\n",
    "    #check league managers\n",
    "    #check gs managers\n",
    "    #if difference append with event_joined = current_gw and uno_reverse =yes\n",
    "    return None"
   ]
  },
  {
   "cell_type": "code",
   "execution_count": null,
   "metadata": {},
   "outputs": [],
   "source": [
    "#this function is only used to store variables that don't change betweem gameweeks, it will only reset when theres an update\n",
    "\n",
    "def cached_variables(first_place, last_place, redcards, own_goals, negative_points, current_week):\n",
    "    return first_place, last_place, redcards, own_goals, negative_points, current_week"
   ]
  },
  {
   "cell_type": "code",
   "execution_count": 7,
   "metadata": {},
   "outputs": [
    {
     "name": "stdout",
     "output_type": "stream",
     "text": [
      "season hasn't started pull placeholder data\n",
      "its either a new week or the old week hasnt completetly finished - pull from gs\n",
      "finished: False\n",
      "checked: False\n",
      "game week: 1\n",
      "do nothing\n"
     ]
    }
   ],
   "source": [
    "#determine if an update is needed every 6 hours\n",
    "if update(gs_connection) == True:\n",
    "    print('There is new data, google sheets will be updated now')\n",
    "    # gameweek_results_update()\n",
    "    # auto_drinks_update(current_week, last)\n",
    "    # managers_update()\n",
    "\n",
    "    # cached_variables.clear()\n",
    "    # first_place, last_place, redcards, own_goals, negative_points, current_week = cached_variables(first_place, last_place, redcards, own_goals, negative_points, current_week)\n",
    "else:\n",
    "    print('Data in google sheets is up to date')\n",
    "    #create placeholders\n",
    "    first_place = 'Connor McDonald'\n",
    "    last_place = 'Alex Wietzorrek'\n",
    "    redcards = []\n",
    "    own_goals = []\n",
    "    negative_points = []\n",
    "    current_week = 0\n",
    "\n",
    "#we will pull from gs here regardless - hopefully the condition above handles the state of this data"
   ]
  }
 ],
 "metadata": {
  "kernelspec": {
   "display_name": "base",
   "language": "python",
   "name": "python3"
  },
  "language_info": {
   "codemirror_mode": {
    "name": "ipython",
    "version": 3
   },
   "file_extension": ".py",
   "mimetype": "text/x-python",
   "name": "python",
   "nbconvert_exporter": "python",
   "pygments_lexer": "ipython3",
   "version": "3.8.8"
  },
  "orig_nbformat": 4
 },
 "nbformat": 4,
 "nbformat_minor": 2
}
