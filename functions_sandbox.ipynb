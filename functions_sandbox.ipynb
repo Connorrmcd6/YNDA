{
 "cells": [
  {
   "cell_type": "code",
   "execution_count": 13,
   "metadata": {},
   "outputs": [],
   "source": [
    "import requests\n",
    "import pandas as pd\n",
    "from config import *"
   ]
  },
  {
   "cell_type": "code",
   "execution_count": 14,
   "metadata": {},
   "outputs": [],
   "source": [
    "with requests.Session() as session:\n",
    "    general_response = session.get(general_endpoint).json()\n",
    "    league_response = session.get(league_endpoint).json()\n",
    "    fixture_response = session.get(fixture_endpoint).json()"
   ]
  },
  {
   "cell_type": "code",
   "execution_count": 16,
   "metadata": {},
   "outputs": [],
   "source": [
    "manager_names = pd.DataFrame.from_records(league_response['standings']['results'], columns=['id', 'player_name']).set_index('id'). sort_values(\"player_name\")"
   ]
  },
  {
   "cell_type": "code",
   "execution_count": 18,
   "metadata": {},
   "outputs": [],
   "source": []
  },
  {
   "cell_type": "code",
   "execution_count": 19,
   "metadata": {},
   "outputs": [
    {
     "data": {
      "text/html": [
       "<div>\n",
       "<style scoped>\n",
       "    .dataframe tbody tr th:only-of-type {\n",
       "        vertical-align: middle;\n",
       "    }\n",
       "\n",
       "    .dataframe tbody tr th {\n",
       "        vertical-align: top;\n",
       "    }\n",
       "\n",
       "    .dataframe thead th {\n",
       "        text-align: right;\n",
       "    }\n",
       "</style>\n",
       "<table border=\"1\" class=\"dataframe\">\n",
       "  <thead>\n",
       "    <tr style=\"text-align: right;\">\n",
       "      <th></th>\n",
       "      <th>player_name</th>\n",
       "    </tr>\n",
       "    <tr>\n",
       "      <th>id</th>\n",
       "      <th></th>\n",
       "    </tr>\n",
       "  </thead>\n",
       "  <tbody>\n",
       "    <tr>\n",
       "      <th>11044918</th>\n",
       "      <td>Alex Wietzorrek</td>\n",
       "    </tr>\n",
       "    <tr>\n",
       "      <th>11600435</th>\n",
       "      <td>Cole Floyd</td>\n",
       "    </tr>\n",
       "    <tr>\n",
       "      <th>11045904</th>\n",
       "      <td>Connor McDonald</td>\n",
       "    </tr>\n",
       "    <tr>\n",
       "      <th>11163290</th>\n",
       "      <td>Devon Hodgson</td>\n",
       "    </tr>\n",
       "    <tr>\n",
       "      <th>11595521</th>\n",
       "      <td>Devon Jansen</td>\n",
       "    </tr>\n",
       "    <tr>\n",
       "      <th>54837678</th>\n",
       "      <td>Divyam Dixit</td>\n",
       "    </tr>\n",
       "    <tr>\n",
       "      <th>11593605</th>\n",
       "      <td>Hethe Brinkman</td>\n",
       "    </tr>\n",
       "    <tr>\n",
       "      <th>44640726</th>\n",
       "      <td>Jason Perry</td>\n",
       "    </tr>\n",
       "    <tr>\n",
       "      <th>11191718</th>\n",
       "      <td>Liam Smorfitt</td>\n",
       "    </tr>\n",
       "    <tr>\n",
       "      <th>11604984</th>\n",
       "      <td>Marco Gouveia</td>\n",
       "    </tr>\n",
       "    <tr>\n",
       "      <th>10303098</th>\n",
       "      <td>Niklas Wietzorrek</td>\n",
       "    </tr>\n",
       "    <tr>\n",
       "      <th>42326189</th>\n",
       "      <td>Peter Wertz</td>\n",
       "    </tr>\n",
       "    <tr>\n",
       "      <th>42389877</th>\n",
       "      <td>Ryan Shackleton</td>\n",
       "    </tr>\n",
       "  </tbody>\n",
       "</table>\n",
       "</div>"
      ],
      "text/plain": [
       "                player_name\n",
       "id                         \n",
       "11044918    Alex Wietzorrek\n",
       "11600435         Cole Floyd\n",
       "11045904    Connor McDonald\n",
       "11163290      Devon Hodgson\n",
       "11595521       Devon Jansen\n",
       "54837678       Divyam Dixit\n",
       "11593605     Hethe Brinkman\n",
       "44640726        Jason Perry\n",
       "11191718      Liam Smorfitt\n",
       "11604984      Marco Gouveia\n",
       "10303098  Niklas Wietzorrek\n",
       "42326189        Peter Wertz\n",
       "42389877    Ryan Shackleton"
      ]
     },
     "execution_count": 19,
     "metadata": {},
     "output_type": "execute_result"
    }
   ],
   "source": []
  }
 ],
 "metadata": {
  "kernelspec": {
   "display_name": "base",
   "language": "python",
   "name": "python3"
  },
  "language_info": {
   "codemirror_mode": {
    "name": "ipython",
    "version": 3
   },
   "file_extension": ".py",
   "mimetype": "text/x-python",
   "name": "python",
   "nbconvert_exporter": "python",
   "pygments_lexer": "ipython3",
   "version": "3.8.8"
  },
  "orig_nbformat": 4
 },
 "nbformat": 4,
 "nbformat_minor": 2
}
