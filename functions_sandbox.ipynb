{
 "cells": [
  {
   "cell_type": "code",
   "execution_count": 5,
   "metadata": {},
   "outputs": [],
   "source": [
    "import numpy as np\n",
    "import pandas as pd\n",
    "import streamlit as st\n",
    "from datetime import datetime, timedelta\n",
    "import os\n",
    "import gspread\n",
    "from google.oauth2 import service_account\n",
    "from gspread_dataframe import set_with_dataframe\n",
    "# from google.oauth2.service_account import Credentials\n",
    "from pydrive.auth import GoogleAuth\n",
    "from pydrive.drive import GoogleDrive\n",
    "from configs import *"
   ]
  },
  {
   "cell_type": "code",
   "execution_count": 6,
   "metadata": {},
   "outputs": [],
   "source": [
    "#function to create api connection to google sheets\n",
    "def connect_to_gs(service_account_key):\n",
    "    scopes = ['https://www.googleapis.com/auth/spreadsheets']\n",
    "    credentials = service_account.Credentials.from_service_account_info(service_account_key, scopes=scopes)\n",
    "    gs_connection = gspread.authorize(credentials)\n",
    "    return gs_connection\n",
    "\n",
    "\n",
    "#create connection\n",
    "gs_connection = connect_to_gs(st.secrets[\"gcp_service_account\"])"
   ]
  },
  {
   "cell_type": "code",
   "execution_count": 7,
   "metadata": {},
   "outputs": [],
   "source": [
    "#function to write data to google sheets\n",
    "def write_google_sheets_data(gc, df, sheet_name, sheet_key):\n",
    "    try:\n",
    "        # Open specific sheet\n",
    "        gs = gc.open_by_key(sheet_key)\n",
    "\n",
    "        # Open specific tab within the sheet\n",
    "        tab = gs.worksheet(sheet_name)\n",
    "\n",
    "        df_values = df.values.tolist()\n",
    "        gs.values_append(sheet_name, {'valueInputOption': 'RAW'}, {\n",
    "                    'values': df_values})\n",
    "\n",
    "        return None\n",
    "\n",
    "    except gspread.exceptions.APIError as e:\n",
    "        print(\"Error accessing Google Sheets API:\", e)\n",
    "        return None\n",
    "    except gspread.exceptions.WorksheetNotFound as e:\n",
    "        print(f\"Error: Worksheet not found, please create a new tab named:\", e)\n",
    "        return None\n",
    "    except Exception as e:\n",
    "        print(\"An error occurred:\", e)\n",
    "        return None\n",
    "     "
   ]
  },
  {
   "cell_type": "code",
   "execution_count": 8,
   "metadata": {},
   "outputs": [],
   "source": [
    "#function to fetch data from google sheets\n",
    "def fetch_google_sheets_data(gc, sheet_name, sheet_key, columns_list):\n",
    "    try:\n",
    "        # Open specific sheet\n",
    "        gs = gc.open_by_key(sheet_key)\n",
    "\n",
    "        # Open specific tab within the sheet\n",
    "        tab = gs.worksheet(sheet_name)\n",
    "\n",
    "        data = tab.get_all_values()\n",
    "        headers = data.pop(0)\n",
    "        df = pd.DataFrame(data, columns=headers)\n",
    "\n",
    "        for column in columns_list:\n",
    "            df[column] = pd.to_numeric(df[column])\n",
    "\n",
    "        return df\n",
    "\n",
    "    except gspread.exceptions.APIError as e:\n",
    "        print(\"Error accessing Google Sheets API:\", e)\n",
    "        return None\n",
    "    except gspread.exceptions.WorksheetNotFound as e:\n",
    "        print(\"Error: Worksheet not found:\", e)\n",
    "        return None\n",
    "    except Exception as e:\n",
    "        print(\"An error occurred:\", e)\n",
    "        return None\n",
    "    \n",
    "#fetch data\n"
   ]
  }
 ],
 "metadata": {
  "kernelspec": {
   "display_name": "base",
   "language": "python",
   "name": "python3"
  },
  "language_info": {
   "codemirror_mode": {
    "name": "ipython",
    "version": 3
   },
   "file_extension": ".py",
   "mimetype": "text/x-python",
   "name": "python",
   "nbconvert_exporter": "python",
   "pygments_lexer": "ipython3",
   "version": "3.8.8"
  },
  "orig_nbformat": 4
 },
 "nbformat": 4,
 "nbformat_minor": 2
}
