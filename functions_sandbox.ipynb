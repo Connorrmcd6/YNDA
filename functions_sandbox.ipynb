{
 "cells": [
  {
   "cell_type": "code",
   "execution_count": 4,
   "metadata": {},
   "outputs": [],
   "source": [
    "import numpy as np\n",
    "import pandas as pd\n",
    "import streamlit as st\n",
    "import os\n",
    "import gspread\n",
    "from gspread_dataframe import set_with_dataframe\n",
    "from google.oauth2.service_account import Credentials\n",
    "from google.oauth2 import service_account\n",
    "from pydrive.auth import GoogleAuth\n",
    "from pydrive.drive import GoogleDrive\n",
    "from googleapiclient.discovery import build\n",
    "from googleapiclient.http import MediaFileUpload\n",
    "from configs import *"
   ]
  },
  {
   "cell_type": "code",
   "execution_count": 5,
   "metadata": {},
   "outputs": [],
   "source": [
    "#function to create/update gameweek_results table"
   ]
  },
  {
   "cell_type": "code",
   "execution_count": 6,
   "metadata": {},
   "outputs": [],
   "source": [
    "#function to create/update player table"
   ]
  },
  {
   "cell_type": "code",
   "execution_count": 7,
   "metadata": {},
   "outputs": [],
   "source": [
    "#function to create/update nominations table"
   ]
  },
  {
   "cell_type": "code",
   "execution_count": 8,
   "metadata": {},
   "outputs": [],
   "source": [
    "#function to create/update streaks table"
   ]
  },
  {
   "cell_type": "code",
   "execution_count": 9,
   "metadata": {},
   "outputs": [],
   "source": [
    "#function to fetch data from google sheets\n",
    "\n",
    "def google_sheets_data(gcp_service_account_key, sheet_name, sheet_key):\n",
    "    scopes = ['https://www.googleapis.com/auth/spreadsheets']\n",
    "    credentials = service_account.Credentials.from_service_account_info(gcp_service_account, scopes=scopes)\n",
    "\n",
    "    #create connection to google drive\n",
    "    gc = gspread.authorize(credentials)\n",
    "    gauth = GoogleAuth()\n",
    "    drive = GoogleDrive(gauth)\n",
    "\n",
    "    #open specific sheet\n",
    "    gs = gc.open_by_key(sheet_key)\n",
    "\n",
    "    #open specific tab within sheet\n",
    "    tab = gs.worksheet(sheet_name)\n",
    "\n",
    "    data = tab.get_all_values()\n",
    "    headers = data.pop(0)\n",
    "    df = pd.DataFrame(data, columns=headers)\n",
    "    \n",
    "    return df"
   ]
  },
  {
   "cell_type": "code",
   "execution_count": 10,
   "metadata": {},
   "outputs": [
    {
     "ename": "NameError",
     "evalue": "name 'gcp_service_account' is not defined",
     "output_type": "error",
     "traceback": [
      "\u001b[0;31m---------------------------------------------------------------------------\u001b[0m",
      "\u001b[0;31mNameError\u001b[0m                                 Traceback (most recent call last)",
      "Cell \u001b[0;32mIn[10], line 1\u001b[0m\n\u001b[0;32m----> 1\u001b[0m df \u001b[39m=\u001b[39m google_sheets_data(st\u001b[39m.\u001b[39;49msecrets[\u001b[39m\"\u001b[39;49m\u001b[39mgcp_service_account\u001b[39;49m\u001b[39m\"\u001b[39;49m], gameweek_results_table, google_sheet_key)\n",
      "Cell \u001b[0;32mIn[9], line 5\u001b[0m, in \u001b[0;36mgoogle_sheets_data\u001b[0;34m(gcp_service_account_key, sheet_name, sheet_key)\u001b[0m\n\u001b[1;32m      3\u001b[0m \u001b[39mdef\u001b[39;00m \u001b[39mgoogle_sheets_data\u001b[39m(gcp_service_account_key, sheet_name, sheet_key):\n\u001b[1;32m      4\u001b[0m     scopes \u001b[39m=\u001b[39m [\u001b[39m'\u001b[39m\u001b[39mhttps://www.googleapis.com/auth/spreadsheets\u001b[39m\u001b[39m'\u001b[39m]\n\u001b[0;32m----> 5\u001b[0m     credentials \u001b[39m=\u001b[39m service_account\u001b[39m.\u001b[39mCredentials\u001b[39m.\u001b[39mfrom_service_account_info(gcp_service_account, scopes\u001b[39m=\u001b[39mscopes)\n\u001b[1;32m      7\u001b[0m     \u001b[39m#create connection to google drive\u001b[39;00m\n\u001b[1;32m      8\u001b[0m     gc \u001b[39m=\u001b[39m gspread\u001b[39m.\u001b[39mauthorize(credentials)\n",
      "\u001b[0;31mNameError\u001b[0m: name 'gcp_service_account' is not defined"
     ]
    }
   ],
   "source": [
    "\n",
    "df = google_sheets_data(st.secrets[\"gcp_service_account\"], gameweek_results_table, google_sheet_key)"
   ]
  }
 ],
 "metadata": {
  "kernelspec": {
   "display_name": "base",
   "language": "python",
   "name": "python3"
  },
  "language_info": {
   "codemirror_mode": {
    "name": "ipython",
    "version": 3
   },
   "file_extension": ".py",
   "mimetype": "text/x-python",
   "name": "python",
   "nbconvert_exporter": "python",
   "pygments_lexer": "ipython3",
   "version": "3.8.8"
  },
  "orig_nbformat": 4
 },
 "nbformat": 4,
 "nbformat_minor": 2
}
